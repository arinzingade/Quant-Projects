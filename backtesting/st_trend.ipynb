{
 "cells": [
  {
   "cell_type": "code",
   "execution_count": 49,
   "metadata": {},
   "outputs": [],
   "source": [
    "import pandas as pd\n",
    "import numpy as np\n",
    "import yfinance as yf\n",
    "import requests\n",
    "import time\n",
    "import logging\n",
    "import warnings\n",
    "\n",
    "warnings.filterwarnings(\"ignore\")\n",
    "\n",
    "logging.basicConfig(\n",
    "    level=logging.INFO,\n",
    "    format='%(asctime)s - %(levelname)s - %(message)s',\n",
    "    handlers=[logging.StreamHandler()]\n",
    ")\n",
    "\n",
    "logger = logging.getLogger(__name__)\n",
    "\n",
    "symbol = 'BTCUSDT'\n",
    "qty = 0.002"
   ]
  },
  {
   "cell_type": "markdown",
   "metadata": {},
   "source": [
    "Get Past Data"
   ]
  },
  {
   "cell_type": "code",
   "execution_count": 50,
   "metadata": {},
   "outputs": [],
   "source": [
    "def get_kline_data(pair, interval = \"1h\", limit = 1):\n",
    "    try:\n",
    "        # User inputs\n",
    "        # Prepare the request body (JSON)\n",
    "        params = {\n",
    "            'pair': pair,\n",
    "            'interval': interval,\n",
    "            'limit': limit\n",
    "        }\n",
    "\n",
    "        # Headers for the POST request (no API key or signature required)\n",
    "        headers = {\n",
    "            'Content-Type': 'application/json'\n",
    "        }\n",
    "\n",
    "        \n",
    "        kline_url = \"https://api.pi42.com/v1/market/klines\"\n",
    "\n",
    "        for attempt in range(3):\n",
    "            try:\n",
    "                response = requests.post(kline_url, json=params, headers=headers)\n",
    "                response.raise_for_status() # Raises an error for 4xx/5xx responses\n",
    "                response_data = response.json()\n",
    "                break  \n",
    "\n",
    "            except requests.exceptions.RequestException:\n",
    "                print(f\"Retrying... ({attempt + 1})\")\n",
    "                time.sleep(10)  \n",
    "        \n",
    "        return response_data\n",
    "\n",
    "    except ValueError:\n",
    "        print(\"Please enter valid inputs for pair, interval.\")\n",
    "    except requests.exceptions.HTTPError as err:\n",
    "        print(f\"Error: {err.response.text if err.response else err}\")\n",
    "    except Exception as e:\n",
    "        print(f\"An unexpected error occurred: {str(e)}\")\n",
    "\n",
    "\n",
    "\n",
    "def make_init_data(contract_pair, time = \"1h\", limit = 100):\n",
    "    \n",
    "    try:\n",
    "        logger.info(f\"Fetching kline data for contract pair: {contract_pair}\")\n",
    "        info = get_kline_data(contract_pair, interval=time, limit=limit)\n",
    "        \n",
    "        data = []\n",
    "\n",
    "        for i in info:\n",
    "            high = float(i['high'])\n",
    "            low = float(i['low'])\n",
    "            close = float(i['close'])\n",
    "            \n",
    "            timestamp = pd.to_datetime(int(i['startTime']), unit='ms')\n",
    "            \n",
    "            data.append({'Timestamp': timestamp, 'High': high, 'Low': low, 'Close': close})\n",
    "        \n",
    "        # Create the DataFrame\n",
    "        df = pd.DataFrame(data)\n",
    "        df.set_index('Timestamp')\n",
    "        df.index = pd.to_datetime(df.index)\n",
    "        \n",
    "        logger.info(\"DataFrame created successfully.\")\n",
    "        return df\n",
    "    \n",
    "    except Exception as e:\n",
    "        logger.error(f\"Error while making initial data: {e}\")\n",
    "        raise"
   ]
  },
  {
   "cell_type": "code",
   "execution_count": 60,
   "metadata": {},
   "outputs": [
    {
     "name": "stderr",
     "output_type": "stream",
     "text": [
      "2025-01-19 22:06:16,927 - INFO - Fetching kline data for contract pair: BTCUSDT\n",
      "2025-01-19 22:06:17,298 - INFO - DataFrame created successfully.\n"
     ]
    }
   ],
   "source": [
    "df = make_init_data('BTCUSDT', time = \"1d\", limit = 1000)"
   ]
  },
  {
   "cell_type": "code",
   "execution_count": 61,
   "metadata": {},
   "outputs": [
    {
     "data": {
      "text/plain": [
       "293"
      ]
     },
     "execution_count": 61,
     "metadata": {},
     "output_type": "execute_result"
    }
   ],
   "source": [
    "len(df)"
   ]
  },
  {
   "cell_type": "code",
   "execution_count": 62,
   "metadata": {},
   "outputs": [],
   "source": [
    "def get_supertrend(high, low, close, lookback, multiplier):\n",
    "    \n",
    "    # ATR\n",
    "    \n",
    "    tr1 = pd.DataFrame(high - low)\n",
    "    tr2 = pd.DataFrame(abs(high - close.shift(1)))\n",
    "    tr3 = pd.DataFrame(abs(low - close.shift(1)))\n",
    "    frames = [tr1, tr2, tr3]\n",
    "    tr = pd.concat(frames, axis = 1, join = 'inner').max(axis = 1)\n",
    "    atr = tr.ewm(lookback).mean()\n",
    "    \n",
    "    # H/L AVG AND BASIC UPPER & LOWER BAND\n",
    "    \n",
    "    hl_avg = (high + low) / 2\n",
    "    upper_band = (hl_avg + multiplier * atr).dropna()\n",
    "    lower_band = (hl_avg - multiplier * atr).dropna()\n",
    "    \n",
    "    # FINAL UPPER BAND\n",
    "    final_bands = pd.DataFrame(columns = ['upper', 'lower'])\n",
    "    final_bands.iloc[:,0] = [x for x in upper_band - upper_band]\n",
    "    final_bands.iloc[:,1] = final_bands.iloc[:,0]\n",
    "    for i in range(len(final_bands)):\n",
    "        if i == 0:\n",
    "            final_bands.iloc[i,0] = 0\n",
    "        else:\n",
    "            if (upper_band[i] < final_bands.iloc[i-1,0]) | (close[i-1] > final_bands.iloc[i-1,0]):\n",
    "                final_bands.iloc[i,0] = upper_band[i]\n",
    "            else:\n",
    "                final_bands.iloc[i,0] = final_bands.iloc[i-1,0]\n",
    "    \n",
    "    # FINAL LOWER BAND\n",
    "    \n",
    "    for i in range(len(final_bands)):\n",
    "        if i == 0:\n",
    "            final_bands.iloc[i, 1] = 0\n",
    "        else:\n",
    "            if (lower_band[i] > final_bands.iloc[i-1,1]) | (close[i-1] < final_bands.iloc[i-1,1]):\n",
    "                final_bands.iloc[i,1] = lower_band[i]\n",
    "            else:\n",
    "                final_bands.iloc[i,1] = final_bands.iloc[i-1,1]\n",
    "    \n",
    "    # SUPERTREND\n",
    "    \n",
    "    supertrend = pd.DataFrame(columns = [f'supertrend_{lookback}'])\n",
    "    supertrend.iloc[:,0] = [x for x in final_bands['upper'] - final_bands['upper']]\n",
    "    \n",
    "    for i in range(len(supertrend)):\n",
    "        if i == 0:\n",
    "            supertrend.iloc[i, 0] = 0\n",
    "        elif supertrend.iloc[i-1, 0] == final_bands.iloc[i-1, 0] and close[i] < final_bands.iloc[i, 0]:\n",
    "            supertrend.iloc[i, 0] = final_bands.iloc[i, 0]\n",
    "        elif supertrend.iloc[i-1, 0] == final_bands.iloc[i-1, 0] and close[i] > final_bands.iloc[i, 0]:\n",
    "            supertrend.iloc[i, 0] = final_bands.iloc[i, 1]\n",
    "        elif supertrend.iloc[i-1, 0] == final_bands.iloc[i-1, 1] and close[i] > final_bands.iloc[i, 1]:\n",
    "            supertrend.iloc[i, 0] = final_bands.iloc[i, 1]\n",
    "        elif supertrend.iloc[i-1, 0] == final_bands.iloc[i-1, 1] and close[i] < final_bands.iloc[i, 1]:\n",
    "            supertrend.iloc[i, 0] = final_bands.iloc[i, 0]\n",
    "    \n",
    "    supertrend = supertrend.set_index(upper_band.index)\n",
    "    supertrend = supertrend.dropna()[1:]\n",
    "    \n",
    "    # ST UPTREND/DOWNTREND\n",
    "    \n",
    "    upt = []\n",
    "    dt = []\n",
    "    close = close.iloc[len(close) - len(supertrend):]\n",
    "\n",
    "    for i in range(len(supertrend)):\n",
    "        if close[i] > supertrend.iloc[i, 0]:\n",
    "            upt.append(supertrend.iloc[i, 0])\n",
    "            dt.append(np.nan)\n",
    "        elif close[i] < supertrend.iloc[i, 0]:\n",
    "            upt.append(np.nan)\n",
    "            dt.append(supertrend.iloc[i, 0])\n",
    "        else:\n",
    "            upt.append(np.nan)\n",
    "            dt.append(np.nan)\n",
    "            \n",
    "    st, upt, dt = pd.Series(supertrend.iloc[:, 0]), pd.Series(upt), pd.Series(dt)\n",
    "    upt.index, dt.index = supertrend.index, supertrend.index\n",
    "    \n",
    "    return st, upt, dt, atr"
   ]
  },
  {
   "cell_type": "code",
   "execution_count": 63,
   "metadata": {},
   "outputs": [],
   "source": [
    "df['st'], df['st_upt'], df['st_dt'], df['atr'] = get_supertrend(df['High'], df['Low'], df['Close'], 10, 3)"
   ]
  },
  {
   "cell_type": "code",
   "execution_count": 64,
   "metadata": {},
   "outputs": [
    {
     "data": {
      "text/plain": [
       "293"
      ]
     },
     "execution_count": 64,
     "metadata": {},
     "output_type": "execute_result"
    }
   ],
   "source": [
    "len(df)"
   ]
  },
  {
   "cell_type": "markdown",
   "metadata": {},
   "source": [
    "BUY SIGNAL"
   ]
  },
  {
   "cell_type": "code",
   "execution_count": 65,
   "metadata": {},
   "outputs": [
    {
     "name": "stderr",
     "output_type": "stream",
     "text": [
      "2025-01-19 22:06:22,769 - INFO - BUY SIGNAL detected.\n",
      "2025-01-19 22:06:22,771 - INFO - Buy Price: 71466.5\n",
      "2025-01-19 22:06:22,773 - INFO - SELL SIGNAL detected.\n",
      "2025-01-19 22:06:22,777 - INFO - Sell Price: 64124.0\n",
      "2025-01-19 22:06:22,779 - INFO - Qty: 0.013992569945359015\n",
      "2025-01-19 22:06:22,781 - INFO - Diff: -62.74044482379857\n",
      "2025-01-19 22:06:22,783 - INFO - BUY SIGNAL detected.\n",
      "2025-01-19 22:06:22,785 - INFO - Buy Price: 64680.6\n",
      "2025-01-19 22:06:22,786 - INFO - SELL SIGNAL detected.\n",
      "2025-01-19 22:06:22,788 - INFO - Sell Price: 60684.6\n",
      "2025-01-19 22:06:22,790 - INFO - Qty: 0.015460586327275877\n",
      "2025-01-19 22:06:22,792 - INFO - Diff: -21.780502963794405\n",
      "2025-01-19 22:06:22,794 - INFO - BUY SIGNAL detected.\n",
      "2025-01-19 22:06:22,795 - INFO - Buy Price: 64020.0\n",
      "2025-01-19 22:06:22,797 - INFO - SELL SIGNAL detected.\n",
      "2025-01-19 22:06:22,798 - INFO - Sell Price: 56145.6\n",
      "2025-01-19 22:06:22,800 - INFO - Qty: 0.015620118712902219\n",
      "2025-01-19 22:06:22,801 - INFO - Diff: -82.99906279287725\n",
      "2025-01-19 22:06:22,802 - INFO - BUY SIGNAL detected.\n",
      "2025-01-19 22:06:22,804 - INFO - Buy Price: 62926.9\n",
      "2025-01-19 22:06:22,806 - INFO - SELL SIGNAL detected.\n",
      "2025-01-19 22:06:22,808 - INFO - Sell Price: 94860.4\n",
      "2025-01-19 22:06:22,810 - INFO - Qty: 0.015891455005728868\n",
      "2025-01-19 22:06:22,812 - INFO - Diff: 547.4697784254427\n",
      "2025-01-19 22:06:22,814 - INFO - BUY SIGNAL detected.\n",
      "2025-01-19 22:06:22,816 - INFO - Buy Price: 104041.9\n"
     ]
    }
   ],
   "source": [
    "length = len(df['st_upt'])\n",
    "close = list(df['Close'])\n",
    "st_upt = list(df['st_upt'])\n",
    "status = 0\n",
    "capital_real = 40\n",
    "lev = 25\n",
    "\n",
    "capital = capital_real * 25\n",
    "\n",
    "equity_curve = [capital_real]\n",
    "\n",
    "for i in range(1, length):\n",
    "    #print(i)\n",
    "    curr = st_upt[i]\n",
    "    prev = st_upt[i - 1]\n",
    "\n",
    "    if pd.isna(prev) and curr > 0 and status == 0:\n",
    "        logger.info(\"BUY SIGNAL detected.\")\n",
    "        entry_price = close[i]\n",
    "        logger.info(f\"Buy Price: {entry_price}\")\n",
    "        status = 1\n",
    "    \n",
    "    if pd.isna(curr) and prev > 0 and status == 1:\n",
    "        logger.info(\"SELL SIGNAL detected.\")\n",
    "        exit_price = close[i]\n",
    "        logger.info(f\"Sell Price: {exit_price}\")\n",
    "        status = 0\n",
    "        \n",
    "        qty = capital / entry_price\n",
    "        logger.info(f\"Qty: {qty}\")\n",
    "        diff = capital_real + (exit_price - entry_price) * qty\n",
    "        logger.info(f\"Diff: {diff}\")\n",
    "\n",
    "        equity_curve.append(diff)\n",
    "        "
   ]
  },
  {
   "cell_type": "code",
   "execution_count": 66,
   "metadata": {},
   "outputs": [
    {
     "data": {
      "text/plain": [
       "[<matplotlib.lines.Line2D at 0x247d9e09d80>]"
      ]
     },
     "execution_count": 66,
     "metadata": {},
     "output_type": "execute_result"
    },
    {
     "data": {
      "image/png": "[encoded data removed]",
      "text/plain": [
       "<Figure size 640x480 with 1 Axes>"
      ]
     },
     "metadata": {},
     "output_type": "display_data"
    }
   ],
   "source": [
    "import matplotlib.pyplot as plt\n",
    "plt.plot(equity_curve)"
   ]
  },
  {
   "cell_type": "code",
   "execution_count": 67,
   "metadata": {},
   "outputs": [
    {
     "name": "stderr",
     "output_type": "stream",
     "text": [
      "2025-01-19 22:06:23,328 - INFO - SELL SIGNAL detected.\n",
      "2025-01-19 22:06:23,331 - INFO - Sell Price: 64124.0\n",
      "2025-01-19 22:06:23,333 - INFO - BUY SIGNAL detected.\n",
      "2025-01-19 22:06:23,335 - INFO - Buy Price: 64680.6\n",
      "2025-01-19 22:06:23,337 - INFO - Qty: 0.3898696275965317\n",
      "2025-01-19 22:06:23,339 - INFO - Diff: 782.998565279771\n",
      "2025-01-19 22:06:23,342 - INFO - SELL SIGNAL detected.\n",
      "2025-01-19 22:06:23,344 - INFO - Sell Price: 60684.6\n",
      "2025-01-19 22:06:23,346 - INFO - BUY SIGNAL detected.\n",
      "2025-01-19 22:06:23,348 - INFO - Buy Price: 64020.0\n",
      "2025-01-19 22:06:23,349 - INFO - Qty: 0.4119661330881311\n",
      "2025-01-19 22:06:23,351 - INFO - Diff: -374.0718403021531\n",
      "2025-01-19 22:06:23,353 - INFO - SELL SIGNAL detected.\n",
      "2025-01-19 22:06:23,355 - INFO - Sell Price: 56145.6\n",
      "2025-01-19 22:06:23,357 - INFO - BUY SIGNAL detected.\n",
      "2025-01-19 22:06:23,358 - INFO - Buy Price: 62926.9\n",
      "2025-01-19 22:06:23,360 - INFO - Qty: 0.4452708671739192\n",
      "2025-01-19 22:06:23,367 - INFO - Diff: -2019.5153315664998\n",
      "2025-01-19 22:06:23,368 - INFO - SELL SIGNAL detected.\n",
      "2025-01-19 22:06:23,370 - INFO - Sell Price: 94860.4\n",
      "2025-01-19 22:06:23,372 - INFO - BUY SIGNAL detected.\n",
      "2025-01-19 22:06:23,374 - INFO - Buy Price: 104041.9\n",
      "2025-01-19 22:06:23,376 - INFO - Qty: 0.26354516742497397\n",
      "2025-01-19 22:06:23,379 - INFO - Diff: -1419.7399547123987\n"
     ]
    }
   ],
   "source": [
    "length = len(df['st_upt'])\n",
    "close = list(df['Close'])\n",
    "st_upt = list(df['st_upt'])\n",
    "status = 0\n",
    "capital_real = 1000\n",
    "lev = 25\n",
    "\n",
    "capital = capital_real * 25\n",
    "\n",
    "equity_curve = [capital_real]\n",
    "\n",
    "for i in range(1, length):\n",
    "    #print(i)\n",
    "    curr = st_upt[i]\n",
    "    prev = st_upt[i - 1]\n",
    "\n",
    "    if pd.isna(prev) and curr > 0 and status == 1:\n",
    "        logger.info(\"BUY SIGNAL detected.\")\n",
    "        entry_price = close[i]\n",
    "        logger.info(f\"Buy Price: {entry_price}\")\n",
    "        status = 0\n",
    "\n",
    "        qty = capital / exit_price\n",
    "        logger.info(f\"Qty: {qty}\")\n",
    "        diff = capital_real + (exit_price - entry_price) * qty\n",
    "        logger.info(f\"Diff: {diff}\")\n",
    "\n",
    "        equity_curve.append(diff)\n",
    "    \n",
    "    if pd.isna(curr) and prev > 0 and status == 0:\n",
    "        logger.info(\"SELL SIGNAL detected.\")\n",
    "        exit_price = close[i]\n",
    "        logger.info(f\"Sell Price: {exit_price}\")\n",
    "        status = 1"
   ]
  },
  {
   "cell_type": "code",
   "execution_count": 68,
   "metadata": {},
   "outputs": [
    {
     "data": {
      "text/plain": [
       "[<matplotlib.lines.Line2D at 0x247d9ef5e10>]"
      ]
     },
     "execution_count": 68,
     "metadata": {},
     "output_type": "execute_result"
    },
    {
     "data": {
      "image/png": "[encoded data removed]",
      "text/plain": [
       "<Figure size 640x480 with 1 Axes>"
      ]
     },
     "metadata": {},
     "output_type": "display_data"
    }
   ],
   "source": [
    "plt.plot(equity_curve)"
   ]
  }
 ],
 "metadata": {
  "kernelspec": {
   "display_name": "cloudraft_lavague",
   "language": "python",
   "name": "python3"
  },
  "language_info": {
   "codemirror_mode": {
    "name": "ipython",
    "version": 3
   },
   "file_extension": ".py",
   "mimetype": "text/x-python",
   "name": "python",
   "nbconvert_exporter": "python",
   "pygments_lexer": "ipython3",
   "version": "3.10.12"
  }
 },
 "nbformat": 4,
 "nbformat_minor": 2
}
