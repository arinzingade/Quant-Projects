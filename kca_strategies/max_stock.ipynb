{
 "cells": [
  {
   "cell_type": "code",
   "execution_count": 8,
   "metadata": {},
   "outputs": [],
   "source": [
    "\n",
    "import yfinance as yf\n",
    "import pandas as pd\n",
    "import numpy as np\n",
    "import matplotlib.pyplot as plt\n",
    "from datetime import datetime\n",
    "import warnings\n",
    "\n",
    "import warnings\n",
    "warnings.filterwarnings(\"ignore\")"
   ]
  },
  {
   "cell_type": "code",
   "execution_count": 9,
   "metadata": {},
   "outputs": [],
   "source": [
    "list_500 = list(pd.read_html('https://en.wikipedia.org/wiki/NIFTY_500')[2][3])\n",
    "list_50 = list(pd.read_html('https://en.wikipedia.org/wiki/NIFTY_50')[1]['Symbol'])"
   ]
  },
  {
   "cell_type": "code",
   "execution_count": 10,
   "metadata": {},
   "outputs": [],
   "source": [
    "stock_universe = list_50"
   ]
  },
  {
   "cell_type": "code",
   "execution_count": 11,
   "metadata": {},
   "outputs": [
    {
     "name": "stderr",
     "output_type": "stream",
     "text": [
      "[*********************100%***********************]  49 of 49 completed\n"
     ]
    }
   ],
   "source": [
    "start_date = '2024-11-11'\n",
    "end_date = datetime.now().strftime('%Y-%m-%d')\n",
    "country_code = \".NS\"\n",
    "\n",
    "valid_stock_array = []\n",
    "for i in range(1, len(stock_universe)):\n",
    "    stock_ticker = stock_universe[i] + country_code\n",
    "    valid_stock_array.append(stock_ticker)\n",
    "\n",
    "df = yf.download(valid_stock_array, start=start_date, end=end_date, interval = '1h')"
   ]
  },
  {
   "cell_type": "code",
   "execution_count": 12,
   "metadata": {},
   "outputs": [],
   "source": [
    "max_pct_return = float(0)\n",
    "max_pct_stock = ''\n",
    "\n",
    "\n",
    "max_array = []\n",
    "for symbol in valid_stock_array:\n",
    "    init_price = df['Open'][symbol].iloc[0]\n",
    "    final_price = df['Close'][symbol].iloc[len(df) - 1]\n",
    "\n",
    "    weekly_pct = (final_price - init_price) / init_price\n",
    "\n",
    "    if weekly_pct > max_pct_return:\n",
    "        max_pct_return = weekly_pct\n",
    "        max_pct_stock = symbol\n",
    "    \n",
    "    max_array.append([weekly_pct, symbol])"
   ]
  },
  {
   "cell_type": "code",
   "execution_count": 13,
   "metadata": {},
   "outputs": [
    {
     "data": {
      "text/plain": [
       "[[0.0729184056811965, 'POWERGRID.NS'],\n",
       " [0.06780513139866222, 'TRENT.NS'],\n",
       " [0.04584025619442231, 'EICHERMOT.NS'],\n",
       " [0.04074130887105814, 'TECHM.NS'],\n",
       " [0.035454860540404656, 'ULTRACEMCO.NS'],\n",
       " [0.03463156137243991, 'TITAN.NS'],\n",
       " [0.034044855594896006, 'INFY.NS'],\n",
       " [0.027946955041040347, 'GRASIM.NS'],\n",
       " [0.027884562953719497, 'HCLTECH.NS'],\n",
       " [0.021652613620818904, 'TCS.NS'],\n",
       " [0.015493432132030987, 'M&M.NS'],\n",
       " [0.015373082074274071, 'ICICIBANK.NS'],\n",
       " [0.009513697921429072, 'KOTAKBANK.NS'],\n",
       " [0.007110248858710055, 'HINDALCO.NS'],\n",
       " [0.006540043684354805, 'HEROMOTOCO.NS'],\n",
       " [0.004604510754631404, 'BHARTIARTL.NS'],\n",
       " [0.0036871857889620614, 'WIPRO.NS'],\n",
       " [-0.0002484065354236413, 'SUNPHARMA.NS'],\n",
       " [-0.006812846218482366, 'HDFCBANK.NS'],\n",
       " [-0.008257279443720122, 'AXISBANK.NS'],\n",
       " [-0.010236106724691926, 'ITC.NS'],\n",
       " [-0.010378696084838128, 'JSWSTEEL.NS'],\n",
       " [-0.011385459533607681, 'LT.NS'],\n",
       " [-0.011706132520625778, 'TATAMOTORS.NS'],\n",
       " [-0.012075463489387815, 'RELIANCE.NS'],\n",
       " [-0.02069955210497866, 'NESTLEIND.NS'],\n",
       " [-0.02127659574468085, 'COALINDIA.NS'],\n",
       " [-0.022486772486772486, 'MARUTI.NS'],\n",
       " [-0.023136959251907382, 'HDFCLIFE.NS'],\n",
       " [-0.025369645988781733, 'HINDUNILVR.NS'],\n",
       " [-0.025663236834912537, 'BAJFINANCE.NS'],\n",
       " [-0.03152442966683955, 'ASIANPAINT.NS'],\n",
       " [-0.03307132667086638, 'TATASTEEL.NS'],\n",
       " [-0.03655077303254039, 'SBIN.NS'],\n",
       " [-0.03935131248051461, 'BAJAJ-AUTO.NS'],\n",
       " [-0.04160413136759038, 'DRREDDY.NS'],\n",
       " [-0.04626403930244092, 'TATACONSUM.NS'],\n",
       " [-0.05091512982454837, 'INDUSINDBK.NS'],\n",
       " [-0.053108029735857015, 'SHRIRAMFIN.NS'],\n",
       " [-0.05355336552154994, 'BEL.NS'],\n",
       " [-0.05854216481978938, 'SBILIFE.NS'],\n",
       " [-0.06203842667479918, 'APOLLOHOSP.NS'],\n",
       " [-0.06370397610932825, 'ONGC.NS'],\n",
       " [-0.06429469495336114, 'CIPLA.NS'],\n",
       " [-0.07391678288380994, 'BAJAJFINSV.NS'],\n",
       " [-0.07430795451996597, 'BPCL.NS'],\n",
       " [-0.0831867469496035, 'NTPC.NS'],\n",
       " [-0.16048511294789644, 'ADANIPORTS.NS'],\n",
       " [-0.16488017096549465, 'BRITANNIA.NS']]"
      ]
     },
     "execution_count": 13,
     "metadata": {},
     "output_type": "execute_result"
    }
   ],
   "source": [
    "sorted(max_array, reverse=True)"
   ]
  }
 ],
 "metadata": {
  "kernelspec": {
   "display_name": "cloudraft_lavague",
   "language": "python",
   "name": "python3"
  },
  "language_info": {
   "codemirror_mode": {
    "name": "ipython",
    "version": 3
   },
   "file_extension": ".py",
   "mimetype": "text/x-python",
   "name": "python",
   "nbconvert_exporter": "python",
   "pygments_lexer": "ipython3",
   "version": "3.10.12"
  }
 },
 "nbformat": 4,
 "nbformat_minor": 2
}
