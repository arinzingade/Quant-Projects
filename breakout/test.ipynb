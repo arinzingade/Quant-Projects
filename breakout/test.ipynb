{
 "cells": [
  {
   "cell_type": "code",
   "execution_count": 84,
   "metadata": {},
   "outputs": [],
   "source": [
    "import pandas as pd\n",
    "import numpy as np\n",
    "import yfinance as yf\n",
    "import matplotlib.pyplot as plt"
   ]
  },
  {
   "cell_type": "code",
   "execution_count": 93,
   "metadata": {},
   "outputs": [
    {
     "name": "stderr",
     "output_type": "stream",
     "text": [
      "[*********************100%***********************]  1 of 1 completed\n"
     ]
    }
   ],
   "source": [
    "df = yf.download('BTC-USD', start = \"2024-11-01\", end = \"2024-12-04\", interval=\"15m\")"
   ]
  },
  {
   "cell_type": "code",
   "execution_count": 94,
   "metadata": {},
   "outputs": [],
   "source": [
    "df['Body'] = abs(df['Close'] - df['Open'])"
   ]
  },
  {
   "cell_type": "code",
   "execution_count": 95,
   "metadata": {},
   "outputs": [
    {
     "data": {
      "text/plain": [
       "(array([2.015e+03, 7.660e+02, 2.250e+02, 9.000e+01, 3.800e+01, 1.600e+01,\n",
       "        8.000e+00, 7.000e+00, 1.000e+00, 2.000e+00]),\n",
       " array([2.34375000e-02, 1.64317969e+02, 3.28612500e+02, 4.92907031e+02,\n",
       "        6.57201563e+02, 8.21496094e+02, 9.85790625e+02, 1.15008516e+03,\n",
       "        1.31437969e+03, 1.47867422e+03, 1.64296875e+03]),\n",
       " <BarContainer object of 10 artists>)"
      ]
     },
     "execution_count": 95,
     "metadata": {},
     "output_type": "execute_result"
    },
    {
     "data": {
      "image/png": "[encoded data removed]",
      "text/plain": [
       "<Figure size 640x480 with 1 Axes>"
      ]
     },
     "metadata": {},
     "output_type": "display_data"
    }
   ],
   "source": [
    "plt.hist(df['Body'])"
   ]
  },
  {
   "cell_type": "code",
   "execution_count": 96,
   "metadata": {},
   "outputs": [
    {
     "data": {
      "text/html": [
       "<div>\n",
       "<style scoped>\n",
       "    .dataframe tbody tr th:only-of-type {\n",
       "        vertical-align: middle;\n",
       "    }\n",
       "\n",
       "    .dataframe tbody tr th {\n",
       "        vertical-align: top;\n",
       "    }\n",
       "\n",
       "    .dataframe thead th {\n",
       "        text-align: right;\n",
       "    }\n",
       "</style>\n",
       "<table border=\"1\" class=\"dataframe\">\n",
       "  <thead>\n",
       "    <tr style=\"text-align: right;\">\n",
       "      <th></th>\n",
       "      <th>Open</th>\n",
       "      <th>High</th>\n",
       "      <th>Low</th>\n",
       "      <th>Close</th>\n",
       "      <th>Adj Close</th>\n",
       "      <th>Volume</th>\n",
       "      <th>Body</th>\n",
       "    </tr>\n",
       "    <tr>\n",
       "      <th>Datetime</th>\n",
       "      <th></th>\n",
       "      <th></th>\n",
       "      <th></th>\n",
       "      <th></th>\n",
       "      <th></th>\n",
       "      <th></th>\n",
       "      <th></th>\n",
       "    </tr>\n",
       "  </thead>\n",
       "  <tbody>\n",
       "    <tr>\n",
       "      <th>2024-11-01 00:00:00</th>\n",
       "      <td>70202.875000</td>\n",
       "      <td>70324.890625</td>\n",
       "      <td>70202.875000</td>\n",
       "      <td>70320.242188</td>\n",
       "      <td>70320.242188</td>\n",
       "      <td>27385856</td>\n",
       "      <td>117.367188</td>\n",
       "    </tr>\n",
       "    <tr>\n",
       "      <th>2024-11-01 00:15:00</th>\n",
       "      <td>70347.687500</td>\n",
       "      <td>70362.109375</td>\n",
       "      <td>70290.953125</td>\n",
       "      <td>70321.875000</td>\n",
       "      <td>70321.875000</td>\n",
       "      <td>41615360</td>\n",
       "      <td>25.812500</td>\n",
       "    </tr>\n",
       "    <tr>\n",
       "      <th>2024-11-01 00:30:00</th>\n",
       "      <td>70328.093750</td>\n",
       "      <td>70328.093750</td>\n",
       "      <td>70100.710938</td>\n",
       "      <td>70173.078125</td>\n",
       "      <td>70173.078125</td>\n",
       "      <td>29069312</td>\n",
       "      <td>155.015625</td>\n",
       "    </tr>\n",
       "    <tr>\n",
       "      <th>2024-11-01 00:45:00</th>\n",
       "      <td>70154.625000</td>\n",
       "      <td>70246.078125</td>\n",
       "      <td>70116.695312</td>\n",
       "      <td>70116.695312</td>\n",
       "      <td>70116.695312</td>\n",
       "      <td>0</td>\n",
       "      <td>37.929688</td>\n",
       "    </tr>\n",
       "    <tr>\n",
       "      <th>2024-11-01 01:00:00</th>\n",
       "      <td>70090.023438</td>\n",
       "      <td>70190.882812</td>\n",
       "      <td>70080.945312</td>\n",
       "      <td>70190.882812</td>\n",
       "      <td>70190.882812</td>\n",
       "      <td>12984320</td>\n",
       "      <td>100.859375</td>\n",
       "    </tr>\n",
       "    <tr>\n",
       "      <th>...</th>\n",
       "      <td>...</td>\n",
       "      <td>...</td>\n",
       "      <td>...</td>\n",
       "      <td>...</td>\n",
       "      <td>...</td>\n",
       "      <td>...</td>\n",
       "      <td>...</td>\n",
       "    </tr>\n",
       "    <tr>\n",
       "      <th>2024-12-03 22:45:00</th>\n",
       "      <td>95926.898438</td>\n",
       "      <td>96192.726562</td>\n",
       "      <td>95863.773438</td>\n",
       "      <td>96192.726562</td>\n",
       "      <td>96192.726562</td>\n",
       "      <td>115748864</td>\n",
       "      <td>265.828125</td>\n",
       "    </tr>\n",
       "    <tr>\n",
       "      <th>2024-12-03 23:00:00</th>\n",
       "      <td>96166.312500</td>\n",
       "      <td>96166.312500</td>\n",
       "      <td>95955.320312</td>\n",
       "      <td>96012.335938</td>\n",
       "      <td>96012.335938</td>\n",
       "      <td>64294912</td>\n",
       "      <td>153.976562</td>\n",
       "    </tr>\n",
       "    <tr>\n",
       "      <th>2024-12-03 23:15:00</th>\n",
       "      <td>96008.484375</td>\n",
       "      <td>96101.570312</td>\n",
       "      <td>95913.687500</td>\n",
       "      <td>95913.687500</td>\n",
       "      <td>95913.687500</td>\n",
       "      <td>71962624</td>\n",
       "      <td>94.796875</td>\n",
       "    </tr>\n",
       "    <tr>\n",
       "      <th>2024-12-03 23:30:00</th>\n",
       "      <td>95896.281250</td>\n",
       "      <td>96076.148438</td>\n",
       "      <td>95896.281250</td>\n",
       "      <td>96032.476562</td>\n",
       "      <td>96032.476562</td>\n",
       "      <td>90877952</td>\n",
       "      <td>136.195312</td>\n",
       "    </tr>\n",
       "    <tr>\n",
       "      <th>2024-12-03 23:45:00</th>\n",
       "      <td>95993.093750</td>\n",
       "      <td>96070.210938</td>\n",
       "      <td>95980.187500</td>\n",
       "      <td>96005.585938</td>\n",
       "      <td>96005.585938</td>\n",
       "      <td>73383936</td>\n",
       "      <td>12.492188</td>\n",
       "    </tr>\n",
       "  </tbody>\n",
       "</table>\n",
       "<p>3168 rows × 7 columns</p>\n",
       "</div>"
      ],
      "text/plain": [
       "                             Open          High           Low         Close  \\\n",
       "Datetime                                                                      \n",
       "2024-11-01 00:00:00  70202.875000  70324.890625  70202.875000  70320.242188   \n",
       "2024-11-01 00:15:00  70347.687500  70362.109375  70290.953125  70321.875000   \n",
       "2024-11-01 00:30:00  70328.093750  70328.093750  70100.710938  70173.078125   \n",
       "2024-11-01 00:45:00  70154.625000  70246.078125  70116.695312  70116.695312   \n",
       "2024-11-01 01:00:00  70090.023438  70190.882812  70080.945312  70190.882812   \n",
       "...                           ...           ...           ...           ...   \n",
       "2024-12-03 22:45:00  95926.898438  96192.726562  95863.773438  96192.726562   \n",
       "2024-12-03 23:00:00  96166.312500  96166.312500  95955.320312  96012.335938   \n",
       "2024-12-03 23:15:00  96008.484375  96101.570312  95913.687500  95913.687500   \n",
       "2024-12-03 23:30:00  95896.281250  96076.148438  95896.281250  96032.476562   \n",
       "2024-12-03 23:45:00  95993.093750  96070.210938  95980.187500  96005.585938   \n",
       "\n",
       "                        Adj Close     Volume        Body  \n",
       "Datetime                                                  \n",
       "2024-11-01 00:00:00  70320.242188   27385856  117.367188  \n",
       "2024-11-01 00:15:00  70321.875000   41615360   25.812500  \n",
       "2024-11-01 00:30:00  70173.078125   29069312  155.015625  \n",
       "2024-11-01 00:45:00  70116.695312          0   37.929688  \n",
       "2024-11-01 01:00:00  70190.882812   12984320  100.859375  \n",
       "...                           ...        ...         ...  \n",
       "2024-12-03 22:45:00  96192.726562  115748864  265.828125  \n",
       "2024-12-03 23:00:00  96012.335938   64294912  153.976562  \n",
       "2024-12-03 23:15:00  95913.687500   71962624   94.796875  \n",
       "2024-12-03 23:30:00  96032.476562   90877952  136.195312  \n",
       "2024-12-03 23:45:00  96005.585938   73383936   12.492188  \n",
       "\n",
       "[3168 rows x 7 columns]"
      ]
     },
     "execution_count": 96,
     "metadata": {},
     "output_type": "execute_result"
    }
   ],
   "source": [
    "df"
   ]
  },
  {
   "cell_type": "code",
   "execution_count": 97,
   "metadata": {},
   "outputs": [],
   "source": [
    "def find_percentile(arr, number):\n",
    "    # Sort the array\n",
    "    arr.sort()\n",
    "\n",
    "    # Count numbers less than or equal to the given number\n",
    "    count = sum(1 for x in arr if x <= number)\n",
    "\n",
    "    # Calculate the percentile\n",
    "    percentile = (count / len(arr)) * 100\n",
    "    return percentile\n",
    "\n",
    "\n",
    "body_series = df['Body']\n",
    "datetime_value_pairs = list(body_series.items())\n",
    "body_list = body_series.to_list()"
   ]
  },
  {
   "cell_type": "code",
   "execution_count": 99,
   "metadata": {},
   "outputs": [
    {
     "name": "stdout",
     "output_type": "stream",
     "text": [
      "2024-11-01 15:30:00 977.28125\n",
      "2024-11-05 19:45:00 1151.25\n",
      "2024-11-06 02:15:00 1121.6796875\n",
      "2024-11-06 14:45:00 903.9140625\n",
      "2024-11-10 04:45:00 1243.0\n",
      "2024-11-11 20:00:00 934.25\n",
      "2024-11-11 21:15:00 1047.6328125\n",
      "2024-11-11 22:45:00 862.5390625\n",
      "2024-11-11 23:00:00 1155.5234375\n",
      "2024-11-12 00:00:00 824.390625\n",
      "2024-11-12 00:45:00 843.0\n",
      "2024-11-12 10:30:00 1041.8515625\n",
      "2024-11-13 14:30:00 999.4140625\n",
      "2024-11-13 16:30:00 1237.2109375\n",
      "2024-11-13 19:00:00 1637.2421875\n",
      "2024-11-13 19:30:00 1012.0703125\n",
      "2024-11-13 20:45:00 1237.1953125\n",
      "2024-11-13 21:00:00 948.4453125\n",
      "2024-11-13 22:00:00 933.8203125\n",
      "2024-11-14 14:30:00 1642.96875\n",
      "2024-11-14 20:00:00 1181.359375\n",
      "2024-11-15 00:00:00 918.8984375\n",
      "2024-11-15 19:30:00 835.1171875\n",
      "2024-11-18 15:30:00 1392.0625\n",
      "2024-11-18 20:15:00 1282.296875\n",
      "2024-11-21 04:00:00 985.40625\n",
      "2024-11-25 22:45:00 1071.53125\n",
      "2024-11-26 00:15:00 846.7578125\n",
      "2024-11-26 14:30:00 895.0234375\n",
      "2024-11-26 16:15:00 1082.9765625\n",
      "2024-11-27 15:30:00 1065.03125\n",
      "2024-12-03 13:45:00 846.78125\n"
     ]
    }
   ],
   "source": [
    "for pair in datetime_value_pairs:\n",
    "    date = pair[0]\n",
    "    num = pair[1]\n",
    "    \n",
    "    if find_percentile(body_list, num) > 99:\n",
    "        print(date, num)"
   ]
  }
 ],
 "metadata": {
  "kernelspec": {
   "display_name": "base",
   "language": "python",
   "name": "python3"
  },
  "language_info": {
   "codemirror_mode": {
    "name": "ipython",
    "version": 3
   },
   "file_extension": ".py",
   "mimetype": "text/x-python",
   "name": "python",
   "nbconvert_exporter": "python",
   "pygments_lexer": "ipython3",
   "version": "3.11.9"
  }
 },
 "nbformat": 4,
 "nbformat_minor": 2
}
