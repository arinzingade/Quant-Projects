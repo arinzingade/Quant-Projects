{
 "cells": [
  {
   "cell_type": "code",
   "execution_count": 2,
   "metadata": {},
   "outputs": [],
   "source": [
    "import yfinance as yf"
   ]
  },
  {
   "cell_type": "code",
   "execution_count": 33,
   "metadata": {},
   "outputs": [
    {
     "name": "stderr",
     "output_type": "stream",
     "text": [
      "[*********************100%***********************]  1 of 1 completed\n"
     ]
    }
   ],
   "source": [
    "df = yf.download('^NSEI', start = \"2008-04-01\", end = \"2024-11-01\", interval = \"1wk\")\n",
    "df['high_diff_pct'] = (df['High'] - df['Open'])/df['Open']\n",
    "df['low_diff_pct'] = (-df['Low'] + df['Open'])/df['Open']"
   ]
  },
  {
   "cell_type": "code",
   "execution_count": 34,
   "metadata": {},
   "outputs": [
    {
     "data": {
      "text/html": [
       "<div>\n",
       "<style scoped>\n",
       "    .dataframe tbody tr th:only-of-type {\n",
       "        vertical-align: middle;\n",
       "    }\n",
       "\n",
       "    .dataframe tbody tr th {\n",
       "        vertical-align: top;\n",
       "    }\n",
       "\n",
       "    .dataframe thead tr th {\n",
       "        text-align: left;\n",
       "    }\n",
       "\n",
       "    .dataframe thead tr:last-of-type th {\n",
       "        text-align: right;\n",
       "    }\n",
       "</style>\n",
       "<table border=\"1\" class=\"dataframe\">\n",
       "  <thead>\n",
       "    <tr>\n",
       "      <th>Price</th>\n",
       "      <th>Adj Close</th>\n",
       "      <th>Close</th>\n",
       "      <th>High</th>\n",
       "      <th>Low</th>\n",
       "      <th>Open</th>\n",
       "      <th>Volume</th>\n",
       "      <th>high_diff_pct</th>\n",
       "      <th>low_diff_pct</th>\n",
       "    </tr>\n",
       "    <tr>\n",
       "      <th>Ticker</th>\n",
       "      <th>^NSEI</th>\n",
       "      <th>^NSEI</th>\n",
       "      <th>^NSEI</th>\n",
       "      <th>^NSEI</th>\n",
       "      <th>^NSEI</th>\n",
       "      <th>^NSEI</th>\n",
       "      <th></th>\n",
       "      <th></th>\n",
       "    </tr>\n",
       "    <tr>\n",
       "      <th>Date</th>\n",
       "      <th></th>\n",
       "      <th></th>\n",
       "      <th></th>\n",
       "      <th></th>\n",
       "      <th></th>\n",
       "      <th></th>\n",
       "      <th></th>\n",
       "      <th></th>\n",
       "    </tr>\n",
       "  </thead>\n",
       "  <tbody>\n",
       "    <tr>\n",
       "      <th>2008-03-31 00:00:00+00:00</th>\n",
       "      <td>4647.000000</td>\n",
       "      <td>4647.000000</td>\n",
       "      <td>4916.750000</td>\n",
       "      <td>4628.750000</td>\n",
       "      <td>4735.649902</td>\n",
       "      <td>0</td>\n",
       "      <td>0.038242</td>\n",
       "      <td>0.022573</td>\n",
       "    </tr>\n",
       "    <tr>\n",
       "      <th>2008-04-07 00:00:00+00:00</th>\n",
       "      <td>4777.799805</td>\n",
       "      <td>4777.799805</td>\n",
       "      <td>4817.399902</td>\n",
       "      <td>4628.799805</td>\n",
       "      <td>4631.350098</td>\n",
       "      <td>0</td>\n",
       "      <td>0.040172</td>\n",
       "      <td>0.000551</td>\n",
       "    </tr>\n",
       "    <tr>\n",
       "      <th>2008-04-14 00:00:00+00:00</th>\n",
       "      <td>4958.399902</td>\n",
       "      <td>4958.399902</td>\n",
       "      <td>4984.950195</td>\n",
       "      <td>4708.299805</td>\n",
       "      <td>4779.950195</td>\n",
       "      <td>0</td>\n",
       "      <td>0.042887</td>\n",
       "      <td>0.014990</td>\n",
       "    </tr>\n",
       "    <tr>\n",
       "      <th>2008-04-21 00:00:00+00:00</th>\n",
       "      <td>5111.700195</td>\n",
       "      <td>5111.700195</td>\n",
       "      <td>5117.700195</td>\n",
       "      <td>4955.899902</td>\n",
       "      <td>4955.899902</td>\n",
       "      <td>0</td>\n",
       "      <td>0.032648</td>\n",
       "      <td>0.000000</td>\n",
       "    </tr>\n",
       "    <tr>\n",
       "      <th>2008-04-28 00:00:00+00:00</th>\n",
       "      <td>5228.200195</td>\n",
       "      <td>5228.200195</td>\n",
       "      <td>5298.850098</td>\n",
       "      <td>5079.149902</td>\n",
       "      <td>5112.500000</td>\n",
       "      <td>0</td>\n",
       "      <td>0.036450</td>\n",
       "      <td>0.006523</td>\n",
       "    </tr>\n",
       "    <tr>\n",
       "      <th>...</th>\n",
       "      <td>...</td>\n",
       "      <td>...</td>\n",
       "      <td>...</td>\n",
       "      <td>...</td>\n",
       "      <td>...</td>\n",
       "      <td>...</td>\n",
       "      <td>...</td>\n",
       "      <td>...</td>\n",
       "    </tr>\n",
       "    <tr>\n",
       "      <th>2024-09-30 00:00:00+00:00</th>\n",
       "      <td>25014.599609</td>\n",
       "      <td>25014.599609</td>\n",
       "      <td>26134.699219</td>\n",
       "      <td>24966.800781</td>\n",
       "      <td>26061.300781</td>\n",
       "      <td>1388800</td>\n",
       "      <td>0.002816</td>\n",
       "      <td>0.041997</td>\n",
       "    </tr>\n",
       "    <tr>\n",
       "      <th>2024-10-07 00:00:00+00:00</th>\n",
       "      <td>24964.250000</td>\n",
       "      <td>24964.250000</td>\n",
       "      <td>25234.050781</td>\n",
       "      <td>24694.349609</td>\n",
       "      <td>25084.099609</td>\n",
       "      <td>1470000</td>\n",
       "      <td>0.005978</td>\n",
       "      <td>0.015538</td>\n",
       "    </tr>\n",
       "    <tr>\n",
       "      <th>2024-10-14 00:00:00+00:00</th>\n",
       "      <td>24854.050781</td>\n",
       "      <td>24854.050781</td>\n",
       "      <td>25212.050781</td>\n",
       "      <td>24567.650391</td>\n",
       "      <td>25023.449219</td>\n",
       "      <td>1234100</td>\n",
       "      <td>0.007537</td>\n",
       "      <td>0.018215</td>\n",
       "    </tr>\n",
       "    <tr>\n",
       "      <th>2024-10-21 00:00:00+00:00</th>\n",
       "      <td>24180.800781</td>\n",
       "      <td>24180.800781</td>\n",
       "      <td>24978.300781</td>\n",
       "      <td>24073.900391</td>\n",
       "      <td>24956.150391</td>\n",
       "      <td>1395400</td>\n",
       "      <td>0.000888</td>\n",
       "      <td>0.035352</td>\n",
       "    </tr>\n",
       "    <tr>\n",
       "      <th>2024-10-28 00:00:00+00:00</th>\n",
       "      <td>24304.349609</td>\n",
       "      <td>24304.349609</td>\n",
       "      <td>24498.199219</td>\n",
       "      <td>24134.900391</td>\n",
       "      <td>24251.099609</td>\n",
       "      <td>1221600</td>\n",
       "      <td>0.010189</td>\n",
       "      <td>0.004792</td>\n",
       "    </tr>\n",
       "  </tbody>\n",
       "</table>\n",
       "<p>866 rows × 8 columns</p>\n",
       "</div>"
      ],
      "text/plain": [
       "Price                         Adj Close         Close          High  \\\n",
       "Ticker                            ^NSEI         ^NSEI         ^NSEI   \n",
       "Date                                                                  \n",
       "2008-03-31 00:00:00+00:00   4647.000000   4647.000000   4916.750000   \n",
       "2008-04-07 00:00:00+00:00   4777.799805   4777.799805   4817.399902   \n",
       "2008-04-14 00:00:00+00:00   4958.399902   4958.399902   4984.950195   \n",
       "2008-04-21 00:00:00+00:00   5111.700195   5111.700195   5117.700195   \n",
       "2008-04-28 00:00:00+00:00   5228.200195   5228.200195   5298.850098   \n",
       "...                                 ...           ...           ...   \n",
       "2024-09-30 00:00:00+00:00  25014.599609  25014.599609  26134.699219   \n",
       "2024-10-07 00:00:00+00:00  24964.250000  24964.250000  25234.050781   \n",
       "2024-10-14 00:00:00+00:00  24854.050781  24854.050781  25212.050781   \n",
       "2024-10-21 00:00:00+00:00  24180.800781  24180.800781  24978.300781   \n",
       "2024-10-28 00:00:00+00:00  24304.349609  24304.349609  24498.199219   \n",
       "\n",
       "Price                               Low          Open   Volume high_diff_pct  \\\n",
       "Ticker                            ^NSEI         ^NSEI    ^NSEI                 \n",
       "Date                                                                           \n",
       "2008-03-31 00:00:00+00:00   4628.750000   4735.649902        0      0.038242   \n",
       "2008-04-07 00:00:00+00:00   4628.799805   4631.350098        0      0.040172   \n",
       "2008-04-14 00:00:00+00:00   4708.299805   4779.950195        0      0.042887   \n",
       "2008-04-21 00:00:00+00:00   4955.899902   4955.899902        0      0.032648   \n",
       "2008-04-28 00:00:00+00:00   5079.149902   5112.500000        0      0.036450   \n",
       "...                                 ...           ...      ...           ...   \n",
       "2024-09-30 00:00:00+00:00  24966.800781  26061.300781  1388800      0.002816   \n",
       "2024-10-07 00:00:00+00:00  24694.349609  25084.099609  1470000      0.005978   \n",
       "2024-10-14 00:00:00+00:00  24567.650391  25023.449219  1234100      0.007537   \n",
       "2024-10-21 00:00:00+00:00  24073.900391  24956.150391  1395400      0.000888   \n",
       "2024-10-28 00:00:00+00:00  24134.900391  24251.099609  1221600      0.010189   \n",
       "\n",
       "Price                     low_diff_pct  \n",
       "Ticker                                  \n",
       "Date                                    \n",
       "2008-03-31 00:00:00+00:00     0.022573  \n",
       "2008-04-07 00:00:00+00:00     0.000551  \n",
       "2008-04-14 00:00:00+00:00     0.014990  \n",
       "2008-04-21 00:00:00+00:00     0.000000  \n",
       "2008-04-28 00:00:00+00:00     0.006523  \n",
       "...                                ...  \n",
       "2024-09-30 00:00:00+00:00     0.041997  \n",
       "2024-10-07 00:00:00+00:00     0.015538  \n",
       "2024-10-14 00:00:00+00:00     0.018215  \n",
       "2024-10-21 00:00:00+00:00     0.035352  \n",
       "2024-10-28 00:00:00+00:00     0.004792  \n",
       "\n",
       "[866 rows x 8 columns]"
      ]
     },
     "execution_count": 34,
     "metadata": {},
     "output_type": "execute_result"
    }
   ],
   "source": [
    "df"
   ]
  },
  {
   "cell_type": "code",
   "execution_count": 35,
   "metadata": {},
   "outputs": [
    {
     "data": {
      "text/plain": [
       "0.016651109538211948"
      ]
     },
     "execution_count": 35,
     "metadata": {},
     "output_type": "execute_result"
    }
   ],
   "source": [
    "import numpy as np\n",
    "\n",
    "np.average(df['high_diff_pct'])"
   ]
  },
  {
   "cell_type": "code",
   "execution_count": 36,
   "metadata": {},
   "outputs": [
    {
     "data": {
      "text/plain": [
       "0.018121408701954566"
      ]
     },
     "execution_count": 36,
     "metadata": {},
     "output_type": "execute_result"
    }
   ],
   "source": [
    "np.average(df['low_diff_pct'])"
   ]
  },
  {
   "cell_type": "code",
   "execution_count": 37,
   "metadata": {},
   "outputs": [
    {
     "data": {
      "text/plain": [
       "(array([659., 161.,  31.,   5.,   5.,   3.,   1.,   0.,   0.,   1.]),\n",
       " array([0.        , 0.02276656, 0.04553313, 0.06829969, 0.09106625,\n",
       "        0.11383282, 0.13659938, 0.15936594, 0.18213251, 0.20489907,\n",
       "        0.22766563]),\n",
       " <BarContainer object of 10 artists>)"
      ]
     },
     "execution_count": 37,
     "metadata": {},
     "output_type": "execute_result"
    },
    {
     "data": {
      "image/png": "[encoded data removed]",
      "text/plain": [
       "<Figure size 640x480 with 1 Axes>"
      ]
     },
     "metadata": {},
     "output_type": "display_data"
    }
   ],
   "source": [
    "import matplotlib.pyplot as plt \n",
    "\n",
    "plt.hist(df['high_diff_pct'])"
   ]
  },
  {
   "cell_type": "code",
   "execution_count": 38,
   "metadata": {},
   "outputs": [
    {
     "data": {
      "text/plain": [
       "(array([582., 198.,  52.,  21.,   4.,   3.,   1.,   2.,   1.,   2.]),\n",
       " array([0.        , 0.02035831, 0.04071661, 0.06107492, 0.08143323,\n",
       "        0.10179153, 0.12214984, 0.14250814, 0.16286645, 0.18322476,\n",
       "        0.20358306]),\n",
       " <BarContainer object of 10 artists>)"
      ]
     },
     "execution_count": 38,
     "metadata": {},
     "output_type": "execute_result"
    },
    {
     "data": {
      "image/png": "[encoded data removed]",
      "text/plain": [
       "<Figure size 640x480 with 1 Axes>"
      ]
     },
     "metadata": {},
     "output_type": "display_data"
    }
   ],
   "source": [
    "plt.hist(df['low_diff_pct'])"
   ]
  },
  {
   "cell_type": "code",
   "execution_count": 4,
   "metadata": {},
   "outputs": [
    {
     "data": {
      "text/plain": [
       "True"
      ]
     },
     "execution_count": 4,
     "metadata": {},
     "output_type": "execute_result"
    }
   ],
   "source": [
    "from datetime import datetime\n",
    "time_interval = 5\n",
    "datetime.now().hour == 12 and (datetime.now().minute >= 40 and datetime.now().minute <= 45)"
   ]
  }
 ],
 "metadata": {
  "kernelspec": {
   "display_name": "cloudraft_lavague",
   "language": "python",
   "name": "python3"
  },
  "language_info": {
   "codemirror_mode": {
    "name": "ipython",
    "version": 3
   },
   "file_extension": ".py",
   "mimetype": "text/x-python",
   "name": "python",
   "nbconvert_exporter": "python",
   "pygments_lexer": "ipython3",
   "version": "3.10.12"
  }
 },
 "nbformat": 4,
 "nbformat_minor": 2
}
