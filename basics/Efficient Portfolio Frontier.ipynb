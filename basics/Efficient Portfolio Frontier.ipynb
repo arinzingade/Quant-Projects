{
 "cells": [
  {
   "cell_type": "markdown",
   "metadata": {},
   "source": [
    "    Importing Dependencies"
   ]
  },
  {
   "cell_type": "code",
   "execution_count": 1,
   "metadata": {},
   "outputs": [],
   "source": [
    "import numpy as np\n",
    "import pandas as pd\n",
    "from scipy.optimize import minimize\n",
    "import yfinance as yf\n",
    "import plotly.graph_objects as go\n",
    "import plotly.express as px\n",
    "import matplotlib.pyplot as plt\n",
    "from scipy.stats import norm"
   ]
  },
  {
   "cell_type": "markdown",
   "metadata": {},
   "source": [
    "    Input of Stocks in the Portfolio"
   ]
  },
  {
   "cell_type": "code",
   "execution_count": 2,
   "metadata": {},
   "outputs": [],
   "source": [
    "custom_stocks = []\n",
    "\n",
    "number_stocks = int(input(\"Nummber of Stocks: \"))\n",
    "\n",
    "for i in range(number_stocks):\n",
    "    input_stocks = input(\"Your stockss: \")\n",
    "\n",
    "    custom_stocks.append(input_stocks)\n",
    "\n",
    "select = custom_stocks\n",
    "country_code = ''\n",
    "##\n",
    "\n",
    "##\n",
    "start = '2017-01-01'\n",
    "end = '2023-10-27'\n",
    "N_years = 6\n",
    "riskfree = 0.049\n",
    "##\n",
    "\n",
    "max_allocations = 100\n",
    "bound = (0, max_allocations/100)\n",
    "\n",
    "cash_percent = 0\n",
    "\n",
    "benchmark = '^GSPC'"
   ]
  },
  {
   "cell_type": "markdown",
   "metadata": {},
   "source": [
    "    Raw Data"
   ]
  },
  {
   "cell_type": "code",
   "execution_count": 3,
   "metadata": {},
   "outputs": [
    {
     "name": "stderr",
     "output_type": "stream",
     "text": [
      "[*********************100%%**********************]  4 of 4 completed\n",
      "[*********************100%%**********************]  1 of 1 completed\n"
     ]
    }
   ],
   "source": [
    "### Data for stocks\n",
    "\n",
    "stocks =  []\n",
    "\n",
    "for i in select:\n",
    "    stocks.append((i))\n",
    "    \n",
    "def listtostring(s):\n",
    "    str1 = ','\n",
    "    return (str1.join(s))\n",
    "\n",
    "tickers_list = [tickers + country_code for tickers in select]\n",
    "stocks_string = listtostring(tickers_list)\n",
    "\n",
    "data_stocks = yf.download(stocks_string, start, end)['Close']\n",
    "\n",
    "## Benchmark Data\n",
    "\n",
    "ticker_benchmark = yf.Ticker(benchmark)\n",
    "\n",
    "data_benchmark = yf.download(benchmark, start, end)['Close']\n",
    "beta_pct = data_benchmark.pct_change()"
   ]
  },
  {
   "cell_type": "markdown",
   "metadata": {},
   "source": [
    "    Basic Calculations\n",
    "- Historic Returns\n",
    "- Benchmark Returns\n",
    "- Covariance Matrix\n",
    "- Benchmark Value at Risk\n",
    "- Expected Returns using CAPM"
   ]
  },
  {
   "cell_type": "code",
   "execution_count": 4,
   "metadata": {},
   "outputs": [
    {
     "name": "stderr",
     "output_type": "stream",
     "text": [
      "C:\\Users\\Avani Zingade\\AppData\\Local\\Temp\\ipykernel_20404\\2463326566.py:7: DeprecationWarning: `product` is deprecated as of NumPy 1.25.0, and will be removed in NumPy 2.0. Please use `prod` instead.\n",
      "  historic_r_stocks = HistoricR(pct_return_stock)\n",
      "c:\\Users\\Avani Zingade\\AppData\\Local\\Programs\\Python\\Python312\\Lib\\site-packages\\numpy\\core\\fromnumeric.py:86: FutureWarning: The behavior of DataFrame.prod with axis=None is deprecated, in a future version this will reduce over both axes and return a scalar. To retain the old behavior, pass axis=0 (or do not pass axis)\n",
      "  return reduction(axis=axis, out=out, **passkwargs)\n",
      "C:\\Users\\Avani Zingade\\AppData\\Local\\Temp\\ipykernel_20404\\2463326566.py:8: DeprecationWarning: `product` is deprecated as of NumPy 1.25.0, and will be removed in NumPy 2.0. Please use `prod` instead.\n",
      "  historic_r_benchmark = HistoricR(pct_return_benchmark)\n",
      "[*********************100%%**********************]  5 of 5 completed\n"
     ]
    }
   ],
   "source": [
    "pct_return_stock = data_stocks.pct_change()\n",
    "pct_return_benchmark = data_benchmark.pct_change()\n",
    "\n",
    "def HistoricR(a):\n",
    "    return np.product(1+a)**(1/N_years) - 1\n",
    "\n",
    "historic_r_stocks = HistoricR(pct_return_stock)    \n",
    "historic_r_benchmark = HistoricR(pct_return_benchmark)\n",
    "\n",
    "Covariance = pct_return_stock.cov()\n",
    "benchmark_var = pct_return_benchmark.var()\n",
    "\n",
    "weights = np.ones(len(historic_r_stocks))/len(historic_r_stocks)\n",
    "    \n",
    "### Portfolio Calculations\n",
    "\n",
    "return_port = np.sum(weights*historic_r_stocks)\n",
    "risk_port = np.sqrt(np.matmul(weights, np.matmul(Covariance,weights.T))*(252))\n",
    "\n",
    "beta_stocks = stocks_string + ',' + benchmark\n",
    "data = yf.download(beta_stocks, start, end)['Close'].pct_change()\n",
    "\n",
    "cov = data.cov()\n",
    "var = data[benchmark].var()\n",
    "\n",
    "beta = cov.loc[benchmark]/var\n",
    "beta_i_stocks = beta[:-1]\n",
    "\n",
    "expected_return = (riskfree + beta_i_stocks*(historic_r_benchmark - riskfree))"
   ]
  },
  {
   "cell_type": "code",
   "execution_count": 5,
   "metadata": {},
   "outputs": [],
   "source": [
    "input_returns  = expected_return"
   ]
  },
  {
   "cell_type": "markdown",
   "metadata": {},
   "source": [
    "    Maximising Sharpe Ratio\n",
    "- This algorithm adjusts the allocation of stocks in such a way that the Sharpe Ratio of the overall portfolio is maximised."
   ]
  },
  {
   "cell_type": "code",
   "execution_count": 6,
   "metadata": {},
   "outputs": [
    {
     "name": "stdout",
     "output_type": "stream",
     "text": [
      "Maximum Sharpe Ratio\n",
      "True\n",
      "\n",
      "For Max Sharpe = 0.267\n",
      "\n",
      "  Stocks  Allocation(%)\n",
      "0   AAPL          39.45\n",
      "1    JPM          38.45\n",
      "3   TSLA          17.37\n",
      "2    WMT           4.74\n"
     ]
    }
   ],
   "source": [
    "## defining negative sharpe ratio\n",
    "\n",
    "def negativeSharpe(weights, riskfree):\n",
    "    \n",
    "    return_port = np.sum(weights*input_returns)\n",
    "    risk_port = np.sqrt(np.matmul(weights, np.matmul(Covariance,weights.T))*(252))\n",
    "\n",
    "    return -(return_port - riskfree)/risk_port\n",
    "\n",
    "# defining the sum of weights\n",
    "\n",
    "def sumone(weights):\n",
    "    return np.sum(weights)\n",
    "\n",
    "args_sharpe  = riskfree\n",
    "bnds_sharpe = tuple(bound for stocks in range(len(input_returns)))\n",
    "cons_sharpe = ({'type': 'eq', 'fun': lambda x: sumone(x) - (1 - cash_percent/100)})\n",
    "\n",
    "opt_sharpe = minimize(negativeSharpe, weights, args= args_sharpe, \n",
    "                        bounds= bnds_sharpe, constraints= cons_sharpe, method='SLSQP')\n",
    "\n",
    "opt_weights_shape = opt_sharpe['x']\n",
    "\n",
    "print('Maximum Sharpe Ratio')\n",
    "print((1-(cash_percent/100)-0.001)<np.sum(opt_weights_shape)<(1-(cash_percent/100)+0.001))\n",
    "print('')\n",
    "print('For Max Sharpe =', np.round(-opt_sharpe['fun'],3))\n",
    "print('')\n",
    "\n",
    "sharpe_table = {\n",
    "    'Stocks': tickers_list,\n",
    "    'Allocation(%)': np.round(opt_weights_shape*100,2)\n",
    "}\n",
    "\n",
    "df_sharpe = pd.DataFrame(sharpe_table)\n",
    "df_weight_sharpe = df_sharpe.sort_values( by = ['Allocation(%)'], ascending = False)\n",
    "\n",
    "print(df_weight_sharpe)"
   ]
  },
  {
   "cell_type": "markdown",
   "metadata": {},
   "source": [
    "    Maximum Return on Minimum Risk\n",
    "- Optimises the allocation of stocks in the portfolio for Minimum Risk possible for all the combinations."
   ]
  },
  {
   "cell_type": "code",
   "execution_count": 7,
   "metadata": {},
   "outputs": [
    {
     "name": "stdout",
     "output_type": "stream",
     "text": [
      "Minimum Risk Possible\n",
      "True\n",
      "For Minimum RISK possible (%) = 19.14\n",
      "RETURN on min RISK (%) = 9.2\n",
      "\n",
      "  Stocks  Allocation(%)\n",
      "3   TSLA          61.76\n",
      "1    JPM          24.42\n",
      "0   AAPL          13.40\n",
      "2    WMT           0.42\n"
     ]
    }
   ],
   "source": [
    "# Defining the portfolio risk\n",
    "\n",
    "def risk(weights, Covariance):\n",
    "    return np.sqrt(np.matmul(weights, np.matmul(Covariance, weights.T))*252)\n",
    "\n",
    "args_minrisk = Covariance\n",
    "bnds_minrisk = tuple(bound for stocks in range (len(input_returns)))\n",
    "cons_minrisk = ({'type': 'eq', 'fun': lambda x: sumone(x) - (1-cash_percent/100)})\n",
    "\n",
    "# Minimising the risk to Max\n",
    "\n",
    "min_risk = minimize(risk, weights, args=args_minrisk, bounds= bnds_minrisk, constraints= cons_minrisk, method='SLSQP')\n",
    "min_risk_weights = min_risk['x']\n",
    "\n",
    "min_risk_return = np.sum(min_risk_weights*input_returns)\n",
    "\n",
    "print('Minimum Risk Possible')\n",
    "print((1-(cash_percent/100)-0.001)<np.sum(opt_weights_shape)<(1-(cash_percent/100)+0.001))\n",
    "print ('For Minimum RISK possible (%) =', np.round(min_risk['fun']*100,2))\n",
    "print ('RETURN on min RISK (%) =', np.round(min_risk_return*100,2))\n",
    "print('')\n",
    "\n",
    "minrisk_table = {\n",
    "    'Stocks': tickers_list,\n",
    "    'Allocation(%)': np.round(min_risk_weights*100,2)\n",
    "}\n",
    "\n",
    "df_minrisk = pd.DataFrame(minrisk_table)\n",
    "df_weight_minrisk = df_minrisk.sort_values(by = ['Allocation(%)'], ascending = False)\n",
    "\n",
    "print(df_weight_minrisk)"
   ]
  },
  {
   "cell_type": "markdown",
   "metadata": {},
   "source": [
    "    Maximising Return on Given Risk\n",
    "- Maximises the Return on Risk taken as Input from the User "
   ]
  },
  {
   "cell_type": "code",
   "execution_count": 8,
   "metadata": {},
   "outputs": [
    {
     "name": "stdout",
     "output_type": "stream",
     "text": [
      "Maximising Return on Given Risk\n",
      "True\n",
      "True\n",
      "For Given risk (%) = 20.0\n",
      "\n",
      "  Stocks  Allocation(%)\n",
      "3   TSLA          40.98\n",
      "1    JPM          30.85\n",
      "0   AAPL          25.74\n",
      "2    WMT           2.43\n"
     ]
    }
   ],
   "source": [
    "target_risk = 0.20\n",
    "\n",
    "def returns(weights, input_returns):\n",
    "    return -np.sum(weights*input_returns)\n",
    "\n",
    "def risk(weights, Covariance):\n",
    "    return np.sqrt(np.matmul(weights, np.matmul(Covariance, weights.T))*252)\n",
    "\n",
    "args_maxreturn = input_returns\n",
    "bnds_maxreturn = tuple(bound for stocks in range(len(input_returns)))\n",
    "cons_maxreturn = ({'type': 'eq', 'fun': lambda x: sumone(x) - (1-cash_percent/100)},\n",
    "                    {'type': 'eq', 'fun': lambda y: risk(y, Covariance) - (target_risk)})\n",
    "\n",
    "opt_maxreturn = minimize (returns, weights, args=args_maxreturn, bounds=bnds_maxreturn, constraints=cons_maxreturn, method='SLSQP')\n",
    "\n",
    "mrgr_weights = (opt_maxreturn['x'])\n",
    "mrgr_return = opt_maxreturn['fun']\n",
    "mrgr_risk = np.sqrt(np.matmul(mrgr_weights, np.matmul(Covariance, mrgr_weights.T))*252)\n",
    "\n",
    "print('Maximising Return on Given Risk')\n",
    "print((1-(cash_percent/100)-0.001)<np.sum(mrgr_weights)<(1-(cash_percent/100)+0.001))\n",
    "print (target_risk-0.001<mrgr_risk<target_risk+0.001)\n",
    "print ('For Given risk (%) =', target_risk*100)\n",
    "print('')\n",
    "\n",
    "mrgr_table = {\n",
    "    'Stocks': tickers_list,\n",
    "    'Allocation(%)': np.round(mrgr_weights*100,2)\n",
    "}\n",
    "df_mrgr = pd.DataFrame(mrgr_table)\n",
    "df_weight_mrgr = df_mrgr.sort_values(by = ['Allocation(%)'], ascending = False)\n",
    "\n",
    "print(df_weight_mrgr)"
   ]
  },
  {
   "cell_type": "markdown",
   "metadata": {},
   "source": [
    "    Random Simulation\n",
    "- Simulates 1 million different portfolios with random allocation to all the stocks to see the Risk Return curve"
   ]
  },
  {
   "cell_type": "code",
   "execution_count": 9,
   "metadata": {},
   "outputs": [
    {
     "ename": "ValueError",
     "evalue": "\nImage export using the \"kaleido\" engine requires the kaleido package,\nwhich can be installed using pip:\n    $ pip install -U kaleido\n",
     "output_type": "error",
     "traceback": [
      "\u001b[1;31m---------------------------------------------------------------------------\u001b[0m",
      "\u001b[1;31mValueError\u001b[0m                                Traceback (most recent call last)",
      "Cell \u001b[1;32mIn[9], line 28\u001b[0m\n\u001b[0;32m     20\u001b[0m df_random \u001b[38;5;241m=\u001b[39m pd\u001b[38;5;241m.\u001b[39mDataFrame({\n\u001b[0;32m     21\u001b[0m     \u001b[38;5;124m'\u001b[39m\u001b[38;5;124mRisk\u001b[39m\u001b[38;5;124m'\u001b[39m: f_rand_risk,\n\u001b[0;32m     22\u001b[0m     \u001b[38;5;124m\"\u001b[39m\u001b[38;5;124mReturn\u001b[39m\u001b[38;5;124m\"\u001b[39m: f_rand_returns\n\u001b[0;32m     23\u001b[0m })\n\u001b[0;32m     24\u001b[0m plot \u001b[38;5;241m=\u001b[39m px\u001b[38;5;241m.\u001b[39mscatter(df_random, x \u001b[38;5;241m=\u001b[39m \u001b[38;5;124m'\u001b[39m\u001b[38;5;124mRisk\u001b[39m\u001b[38;5;124m'\u001b[39m, y \u001b[38;5;241m=\u001b[39m \u001b[38;5;124m'\u001b[39m\u001b[38;5;124mReturn\u001b[39m\u001b[38;5;124m'\u001b[39m, title \u001b[38;5;241m=\u001b[39m \u001b[38;5;124m'\u001b[39m\u001b[38;5;124mEfficient Portfolio\u001b[39m\u001b[38;5;124m'\u001b[39m, \n\u001b[0;32m     25\u001b[0m                     color \u001b[38;5;241m=\u001b[39m \u001b[38;5;124m'\u001b[39m\u001b[38;5;124mRisk\u001b[39m\u001b[38;5;124m'\u001b[39m, width \u001b[38;5;241m=\u001b[39m \u001b[38;5;241m800\u001b[39m, height\u001b[38;5;241m=\u001b[39m \u001b[38;5;241m500\u001b[39m, \n\u001b[0;32m     26\u001b[0m                     color_continuous_scale\u001b[38;5;241m=\u001b[39mpx\u001b[38;5;241m.\u001b[39mcolors\u001b[38;5;241m.\u001b[39msequential\u001b[38;5;241m.\u001b[39mEmrld_r\n\u001b[0;32m     27\u001b[0m         )\n\u001b[1;32m---> 28\u001b[0m \u001b[43mplot\u001b[49m\u001b[38;5;241;43m.\u001b[39;49m\u001b[43mshow\u001b[49m\u001b[43m(\u001b[49m\u001b[38;5;124;43m\"\u001b[39;49m\u001b[38;5;124;43mpng\u001b[39;49m\u001b[38;5;124;43m\"\u001b[39;49m\u001b[43m)\u001b[49m\n",
      "File \u001b[1;32mc:\\Users\\Avani Zingade\\AppData\\Local\\Programs\\Python\\Python312\\Lib\\site-packages\\plotly\\basedatatypes.py:3410\u001b[0m, in \u001b[0;36mBaseFigure.show\u001b[1;34m(self, *args, **kwargs)\u001b[0m\n\u001b[0;32m   3377\u001b[0m \u001b[38;5;250m\u001b[39m\u001b[38;5;124;03m\"\"\"\u001b[39;00m\n\u001b[0;32m   3378\u001b[0m \u001b[38;5;124;03mShow a figure using either the default renderer(s) or the renderer(s)\u001b[39;00m\n\u001b[0;32m   3379\u001b[0m \u001b[38;5;124;03mspecified by the renderer argument\u001b[39;00m\n\u001b[1;32m   (...)\u001b[0m\n\u001b[0;32m   3406\u001b[0m \u001b[38;5;124;03mNone\u001b[39;00m\n\u001b[0;32m   3407\u001b[0m \u001b[38;5;124;03m\"\"\"\u001b[39;00m\n\u001b[0;32m   3408\u001b[0m \u001b[38;5;28;01mimport\u001b[39;00m \u001b[38;5;21;01mplotly\u001b[39;00m\u001b[38;5;21;01m.\u001b[39;00m\u001b[38;5;21;01mio\u001b[39;00m \u001b[38;5;28;01mas\u001b[39;00m \u001b[38;5;21;01mpio\u001b[39;00m\n\u001b[1;32m-> 3410\u001b[0m \u001b[38;5;28;01mreturn\u001b[39;00m \u001b[43mpio\u001b[49m\u001b[38;5;241;43m.\u001b[39;49m\u001b[43mshow\u001b[49m\u001b[43m(\u001b[49m\u001b[38;5;28;43mself\u001b[39;49m\u001b[43m,\u001b[49m\u001b[43m \u001b[49m\u001b[38;5;241;43m*\u001b[39;49m\u001b[43margs\u001b[49m\u001b[43m,\u001b[49m\u001b[43m \u001b[49m\u001b[38;5;241;43m*\u001b[39;49m\u001b[38;5;241;43m*\u001b[39;49m\u001b[43mkwargs\u001b[49m\u001b[43m)\u001b[49m\n",
      "File \u001b[1;32mc:\\Users\\Avani Zingade\\AppData\\Local\\Programs\\Python\\Python312\\Lib\\site-packages\\plotly\\io\\_renderers.py:386\u001b[0m, in \u001b[0;36mshow\u001b[1;34m(fig, renderer, validate, **kwargs)\u001b[0m\n\u001b[0;32m    383\u001b[0m fig_dict \u001b[38;5;241m=\u001b[39m validate_coerce_fig_to_dict(fig, validate)\n\u001b[0;32m    385\u001b[0m \u001b[38;5;66;03m# Mimetype renderers\u001b[39;00m\n\u001b[1;32m--> 386\u001b[0m bundle \u001b[38;5;241m=\u001b[39m \u001b[43mrenderers\u001b[49m\u001b[38;5;241;43m.\u001b[39;49m\u001b[43m_build_mime_bundle\u001b[49m\u001b[43m(\u001b[49m\u001b[43mfig_dict\u001b[49m\u001b[43m,\u001b[49m\u001b[43m \u001b[49m\u001b[43mrenderers_string\u001b[49m\u001b[38;5;241;43m=\u001b[39;49m\u001b[43mrenderer\u001b[49m\u001b[43m,\u001b[49m\u001b[43m \u001b[49m\u001b[38;5;241;43m*\u001b[39;49m\u001b[38;5;241;43m*\u001b[39;49m\u001b[43mkwargs\u001b[49m\u001b[43m)\u001b[49m\n\u001b[0;32m    387\u001b[0m \u001b[38;5;28;01mif\u001b[39;00m bundle:\n\u001b[0;32m    388\u001b[0m     \u001b[38;5;28;01mif\u001b[39;00m \u001b[38;5;129;01mnot\u001b[39;00m ipython_display:\n",
      "File \u001b[1;32mc:\\Users\\Avani Zingade\\AppData\\Local\\Programs\\Python\\Python312\\Lib\\site-packages\\plotly\\io\\_renderers.py:294\u001b[0m, in \u001b[0;36mRenderersConfig._build_mime_bundle\u001b[1;34m(self, fig_dict, renderers_string, **kwargs)\u001b[0m\n\u001b[0;32m    291\u001b[0m             \u001b[38;5;28;01mif\u001b[39;00m \u001b[38;5;28mhasattr\u001b[39m(renderer, k):\n\u001b[0;32m    292\u001b[0m                 \u001b[38;5;28msetattr\u001b[39m(renderer, k, v)\n\u001b[1;32m--> 294\u001b[0m         bundle\u001b[38;5;241m.\u001b[39mupdate(\u001b[43mrenderer\u001b[49m\u001b[38;5;241;43m.\u001b[39;49m\u001b[43mto_mimebundle\u001b[49m\u001b[43m(\u001b[49m\u001b[43mfig_dict\u001b[49m\u001b[43m)\u001b[49m)\n\u001b[0;32m    296\u001b[0m \u001b[38;5;28;01mreturn\u001b[39;00m bundle\n",
      "File \u001b[1;32mc:\\Users\\Avani Zingade\\AppData\\Local\\Programs\\Python\\Python312\\Lib\\site-packages\\plotly\\io\\_base_renderers.py:126\u001b[0m, in \u001b[0;36mImageRenderer.to_mimebundle\u001b[1;34m(self, fig_dict)\u001b[0m\n\u001b[0;32m    125\u001b[0m \u001b[38;5;28;01mdef\u001b[39;00m \u001b[38;5;21mto_mimebundle\u001b[39m(\u001b[38;5;28mself\u001b[39m, fig_dict):\n\u001b[1;32m--> 126\u001b[0m     image_bytes \u001b[38;5;241m=\u001b[39m \u001b[43mto_image\u001b[49m\u001b[43m(\u001b[49m\n\u001b[0;32m    127\u001b[0m \u001b[43m        \u001b[49m\u001b[43mfig_dict\u001b[49m\u001b[43m,\u001b[49m\n\u001b[0;32m    128\u001b[0m \u001b[43m        \u001b[49m\u001b[38;5;28;43mformat\u001b[39;49m\u001b[38;5;241;43m=\u001b[39;49m\u001b[38;5;28;43mself\u001b[39;49m\u001b[38;5;241;43m.\u001b[39;49m\u001b[43mformat\u001b[49m\u001b[43m,\u001b[49m\n\u001b[0;32m    129\u001b[0m \u001b[43m        \u001b[49m\u001b[43mwidth\u001b[49m\u001b[38;5;241;43m=\u001b[39;49m\u001b[38;5;28;43mself\u001b[39;49m\u001b[38;5;241;43m.\u001b[39;49m\u001b[43mwidth\u001b[49m\u001b[43m,\u001b[49m\n\u001b[0;32m    130\u001b[0m \u001b[43m        \u001b[49m\u001b[43mheight\u001b[49m\u001b[38;5;241;43m=\u001b[39;49m\u001b[38;5;28;43mself\u001b[39;49m\u001b[38;5;241;43m.\u001b[39;49m\u001b[43mheight\u001b[49m\u001b[43m,\u001b[49m\n\u001b[0;32m    131\u001b[0m \u001b[43m        \u001b[49m\u001b[43mscale\u001b[49m\u001b[38;5;241;43m=\u001b[39;49m\u001b[38;5;28;43mself\u001b[39;49m\u001b[38;5;241;43m.\u001b[39;49m\u001b[43mscale\u001b[49m\u001b[43m,\u001b[49m\n\u001b[0;32m    132\u001b[0m \u001b[43m        \u001b[49m\u001b[43mvalidate\u001b[49m\u001b[38;5;241;43m=\u001b[39;49m\u001b[38;5;28;43;01mFalse\u001b[39;49;00m\u001b[43m,\u001b[49m\n\u001b[0;32m    133\u001b[0m \u001b[43m        \u001b[49m\u001b[43mengine\u001b[49m\u001b[38;5;241;43m=\u001b[39;49m\u001b[38;5;28;43mself\u001b[39;49m\u001b[38;5;241;43m.\u001b[39;49m\u001b[43mengine\u001b[49m\u001b[43m,\u001b[49m\n\u001b[0;32m    134\u001b[0m \u001b[43m    \u001b[49m\u001b[43m)\u001b[49m\n\u001b[0;32m    136\u001b[0m     \u001b[38;5;28;01mif\u001b[39;00m \u001b[38;5;28mself\u001b[39m\u001b[38;5;241m.\u001b[39mb64_encode:\n\u001b[0;32m    137\u001b[0m         image_str \u001b[38;5;241m=\u001b[39m base64\u001b[38;5;241m.\u001b[39mb64encode(image_bytes)\u001b[38;5;241m.\u001b[39mdecode(\u001b[38;5;124m\"\u001b[39m\u001b[38;5;124mutf8\u001b[39m\u001b[38;5;124m\"\u001b[39m)\n",
      "File \u001b[1;32mc:\\Users\\Avani Zingade\\AppData\\Local\\Programs\\Python\\Python312\\Lib\\site-packages\\plotly\\io\\_kaleido.py:132\u001b[0m, in \u001b[0;36mto_image\u001b[1;34m(fig, format, width, height, scale, validate, engine)\u001b[0m\n\u001b[0;32m    130\u001b[0m     \u001b[38;5;66;03m# Raise informative error message if Kaleido is not installed\u001b[39;00m\n\u001b[0;32m    131\u001b[0m     \u001b[38;5;28;01mif\u001b[39;00m scope \u001b[38;5;129;01mis\u001b[39;00m \u001b[38;5;28;01mNone\u001b[39;00m:\n\u001b[1;32m--> 132\u001b[0m         \u001b[38;5;28;01mraise\u001b[39;00m \u001b[38;5;167;01mValueError\u001b[39;00m(\n\u001b[0;32m    133\u001b[0m \u001b[38;5;250m            \u001b[39m\u001b[38;5;124;03m\"\"\"\u001b[39;00m\n\u001b[0;32m    134\u001b[0m \u001b[38;5;124;03mImage export using the \"kaleido\" engine requires the kaleido package,\u001b[39;00m\n\u001b[0;32m    135\u001b[0m \u001b[38;5;124;03mwhich can be installed using pip:\u001b[39;00m\n\u001b[0;32m    136\u001b[0m \u001b[38;5;124;03m    $ pip install -U kaleido\u001b[39;00m\n\u001b[0;32m    137\u001b[0m \u001b[38;5;124;03m\"\"\"\u001b[39;00m\n\u001b[0;32m    138\u001b[0m         )\n\u001b[0;32m    140\u001b[0m     \u001b[38;5;66;03m# Validate figure\u001b[39;00m\n\u001b[0;32m    141\u001b[0m     \u001b[38;5;66;03m# ---------------\u001b[39;00m\n\u001b[0;32m    142\u001b[0m     fig_dict \u001b[38;5;241m=\u001b[39m validate_coerce_fig_to_dict(fig, validate)\n",
      "\u001b[1;31mValueError\u001b[0m: \nImage export using the \"kaleido\" engine requires the kaleido package,\nwhich can be installed using pip:\n    $ pip install -U kaleido\n"
     ]
    }
   ],
   "source": [
    "num_portfolios = 100000\n",
    "\n",
    "# Defining random weights\n",
    "\n",
    "f_rand_returns = []\n",
    "f_rand_risk = []\n",
    "\n",
    "for i in range(num_portfolios):\n",
    "\n",
    "    randomness = np.random.random(len(weights))\n",
    "    randomness_sum = np.sum(randomness)\n",
    "    random_weights = randomness/randomness_sum  \n",
    "\n",
    "    rand_returns = np.sum(random_weights*input_returns)\n",
    "    rand_risk = np.sqrt(np.matmul(random_weights, np.matmul(Covariance, np.transpose(random_weights)))*252)\n",
    "\n",
    "    f_rand_returns.append(rand_returns)\n",
    "    f_rand_risk.append(rand_risk)\n",
    "\n",
    "df_random = pd.DataFrame({\n",
    "    'Risk': f_rand_risk,\n",
    "    \"Return\": f_rand_returns\n",
    "})\n",
    "plot = px.scatter(df_random, x = 'Risk', y = 'Return', title = 'Efficient Portfolio', \n",
    "                    color = 'Risk', width = 800, height= 500, \n",
    "                    color_continuous_scale=px.colors.sequential.Emrld_r\n",
    "        )\n",
    "plot.show(\"png\")"
   ]
  },
  {
   "cell_type": "code",
   "execution_count": null,
   "metadata": {},
   "outputs": [],
   "source": []
  }
 ],
 "metadata": {
  "kernelspec": {
   "display_name": "Python 3.10.4 64-bit",
   "language": "python",
   "name": "python3"
  },
  "language_info": {
   "codemirror_mode": {
    "name": "ipython",
    "version": 3
   },
   "file_extension": ".py",
   "mimetype": "text/x-python",
   "name": "python",
   "nbconvert_exporter": "python",
   "pygments_lexer": "ipython3",
   "version": "3.12.3"
  },
  "orig_nbformat": 4,
  "vscode": {
   "interpreter": {
    "hash": "26de051ba29f2982a8de78e945f0abaf191376122a1563185a90213a26c5da77"
   }
  }
 },
 "nbformat": 4,
 "nbformat_minor": 2
}
